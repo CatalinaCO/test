{
 "cells": [
  {
   "cell_type": "markdown",
   "id": "e45ba55e-8cbd-4234-a93a-8a5af0bd14dc",
   "metadata": {},
   "source": [
    "# Data Science Tools and Ecosystem"
   ]
  },
  {
   "cell_type": "markdown",
   "id": "ad25fc28-5b37-4e4b-918a-7e028ca2f771",
   "metadata": {},
   "source": [
    "In this notebook, Data Science Tools and Ecosystem are summarized."
   ]
  },
  {
   "cell_type": "markdown",
   "id": "55af5317-b582-403a-8801-be40be355f9d",
   "metadata": {},
   "source": [
    "Some of the popular languages that Data Scientists use are:\n",
    "1. R\n",
    "2. SQL\n",
    "3. Python"
   ]
  },
  {
   "cell_type": "markdown",
   "id": "19ece9e4-6d8f-4de0-ab25-5ee05ca3caa8",
   "metadata": {},
   "source": [
    "Some of the commonly used libraries used by Data Scientists include:\n",
    "1. Transformers\n",
    "2. Tensorflow\n",
    "3. Pytorch"
   ]
  },
  {
   "cell_type": "markdown",
   "id": "f89de8d8-44ac-4cbf-a896-3d6eff077483",
   "metadata": {},
   "source": [
    "|Data Science Tools|\n",
    "|--------------------|\n",
    "|Jupyter|\n",
    "|Python|\n",
    "|R|"
   ]
  },
  {
   "cell_type": "markdown",
   "id": "7bb13460-4c5a-4866-976d-4d0dd8e7d57d",
   "metadata": {},
   "source": [
    "### Below are a few examples of evaluating arithmetic expressions in Python\n"
   ]
  },
  {
   "cell_type": "code",
   "execution_count": 5,
   "id": "f29a996b-d2c3-4db5-b357-53d1e4a2c30c",
   "metadata": {},
   "outputs": [
    {
     "data": {
      "text/plain": [
       "17"
      ]
     },
     "execution_count": 5,
     "metadata": {},
     "output_type": "execute_result"
    }
   ],
   "source": [
    "(3*4)+5"
   ]
  },
  {
   "cell_type": "code",
   "execution_count": 6,
   "id": "5c068525-6091-489e-ae21-fc6f1e429f34",
   "metadata": {},
   "outputs": [
    {
     "data": {
      "text/plain": [
       "3.3333333333333335"
      ]
     },
     "execution_count": 6,
     "metadata": {},
     "output_type": "execute_result"
    }
   ],
   "source": [
    "# This will convert 200 minutes to hours by diving by 60\n",
    "200/60"
   ]
  },
  {
   "cell_type": "markdown",
   "id": "1e6612ee-6e10-47a7-b367-b78279d92d73",
   "metadata": {},
   "source": [
    "Objectives:\n",
    "List popular languages for Data Science\n",
    "- Python\n",
    "- R\n",
    "- SQL\n"
   ]
  },
  {
   "cell_type": "markdown",
   "id": "69ed75d7-5c14-4d7e-9d29-a6d44808448e",
   "metadata": {},
   "source": [
    "## Author\n",
    "Catalina\n"
   ]
  },
  {
   "cell_type": "code",
   "execution_count": null,
   "id": "ed1e8b76-045a-488f-aea9-f6b08ad61e1e",
   "metadata": {},
   "outputs": [],
   "source": []
  }
 ],
 "metadata": {
  "kernelspec": {
   "display_name": "Python 3 (ipykernel)",
   "language": "python",
   "name": "python3"
  },
  "language_info": {
   "codemirror_mode": {
    "name": "ipython",
    "version": 3
   },
   "file_extension": ".py",
   "mimetype": "text/x-python",
   "name": "python",
   "nbconvert_exporter": "python",
   "pygments_lexer": "ipython3",
   "version": "3.12.9"
  }
 },
 "nbformat": 4,
 "nbformat_minor": 5
}
